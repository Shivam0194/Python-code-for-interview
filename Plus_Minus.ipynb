{
  "nbformat": 4,
  "nbformat_minor": 0,
  "metadata": {
    "colab": {
      "name": "Plus-Minus.ipynb",
      "provenance": []
    },
    "kernelspec": {
      "name": "python3",
      "display_name": "Python 3"
    },
    "language_info": {
      "name": "python"
    }
  },
  "cells": [
    {
      "cell_type": "markdown",
      "source": [
        "Given an array of integers, calculate the ratios of its elements that are positive, negative, and zero. Print the decimal value of each fraction on a new line with  places after the decimal."
      ],
      "metadata": {
        "id": "DrDRxF2aHoNW"
      }
    },
    {
      "cell_type": "code",
      "source": [
        "import array as ar\n",
        "\n",
        "def pnz(arr):\n",
        "  pcount=0\n",
        "  ncount=0\n",
        "  zcount=0\n",
        "  length=len(arr)\n",
        "  for i in range(length):\n",
        "       if (arr[i]>0):\n",
        "          pcount+=1\n",
        "        \n",
        "       elif(arr[i]<0):\n",
        "          ncount+=1\n",
        "       elif(arr[i]==0):\n",
        "          zcount+=1\n",
        "  print(\"{0:.6f}\".format((pcount / length)), end=\" \");\n",
        "  print(pcount/length,\"\",ncount/length,\" \",zcount/length)\n",
        "arr=[1,2,3,4,5,-1,-2,-3,0]\n",
        "pnz(arr)\n"
      ],
      "metadata": {
        "colab": {
          "base_uri": "https://localhost:8080/"
        },
        "id": "IAdl3EdDHeKL",
        "outputId": "e0e0adcd-9bdc-4e11-f080-64099801aff0"
      },
      "execution_count": 17,
      "outputs": [
        {
          "output_type": "stream",
          "name": "stdout",
          "text": [
            "0.555556 0.5555555555555556  0.3333333333333333   0.1111111111111111\n"
          ]
        }
      ]
    },
    {
      "cell_type": "code",
      "source": [
        ""
      ],
      "metadata": {
        "id": "wmbI4Ce5FVhX"
      },
      "execution_count": null,
      "outputs": []
    }
  ]
}